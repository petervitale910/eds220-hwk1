{
 "cells": [
  {
   "cell_type": "code",
   "execution_count": 5,
   "metadata": {
    "deletable": false,
    "editable": false,
    "tags": []
   },
   "outputs": [
    {
     "ename": "FileNotFoundError",
     "evalue": "[Errno 2] No such file or directory: 'hwk1-task2-corals.ipynb'",
     "output_type": "error",
     "traceback": [
      "\u001b[0;31m---------------------------------------------------------------------------\u001b[0m",
      "\u001b[0;31mAttributeError\u001b[0m                            Traceback (most recent call last)",
      "File \u001b[0;32m/opt/anaconda3/envs/eds220-env/lib/python3.11/site-packages/nbformat/__init__.py:169\u001b[0m, in \u001b[0;36mread\u001b[0;34m(fp, as_version, capture_validation_error, **kwargs)\u001b[0m\n\u001b[1;32m    168\u001b[0m \u001b[38;5;28;01mtry\u001b[39;00m:\n\u001b[0;32m--> 169\u001b[0m     buf \u001b[38;5;241m=\u001b[39m \u001b[43mfp\u001b[49m\u001b[38;5;241;43m.\u001b[39;49m\u001b[43mread\u001b[49m()\n\u001b[1;32m    170\u001b[0m \u001b[38;5;28;01mexcept\u001b[39;00m \u001b[38;5;167;01mAttributeError\u001b[39;00m:\n",
      "\u001b[0;31mAttributeError\u001b[0m: 'str' object has no attribute 'read'",
      "\nDuring handling of the above exception, another exception occurred:\n",
      "\u001b[0;31mFileNotFoundError\u001b[0m                         Traceback (most recent call last)",
      "Cell \u001b[0;32mIn[5], line 3\u001b[0m\n\u001b[1;32m      1\u001b[0m \u001b[38;5;66;03m# Initialize Otter\u001b[39;00m\n\u001b[1;32m      2\u001b[0m \u001b[38;5;28;01mimport\u001b[39;00m \u001b[38;5;21;01motter\u001b[39;00m\n\u001b[0;32m----> 3\u001b[0m grader \u001b[38;5;241m=\u001b[39m \u001b[43motter\u001b[49m\u001b[38;5;241;43m.\u001b[39;49m\u001b[43mNotebook\u001b[49m\u001b[43m(\u001b[49m\u001b[38;5;124;43m\"\u001b[39;49m\u001b[38;5;124;43mhwk1-task2-corals.ipynb\u001b[39;49m\u001b[38;5;124;43m\"\u001b[39;49m\u001b[43m)\u001b[49m\n",
      "File \u001b[0;32m/opt/anaconda3/envs/eds220-env/lib/python3.11/site-packages/otter/check/utils.py:217\u001b[0m, in \u001b[0;36mlogs_event.<locals>.event_logger\u001b[0;34m(wrapped, self, args, kwargs)\u001b[0m\n\u001b[1;32m    215\u001b[0m \u001b[38;5;28;01mexcept\u001b[39;00m \u001b[38;5;167;01mException\u001b[39;00m \u001b[38;5;28;01mas\u001b[39;00m e:\n\u001b[1;32m    216\u001b[0m     \u001b[38;5;28mself\u001b[39m\u001b[38;5;241m.\u001b[39m_log_event(event_type, success\u001b[38;5;241m=\u001b[39m\u001b[38;5;28;01mFalse\u001b[39;00m, error\u001b[38;5;241m=\u001b[39me)\n\u001b[0;32m--> 217\u001b[0m     \u001b[38;5;28;01mraise\u001b[39;00m e\n\u001b[1;32m    219\u001b[0m \u001b[38;5;28;01mif\u001b[39;00m ret \u001b[38;5;129;01mis\u001b[39;00m \u001b[38;5;28;01mNone\u001b[39;00m:\n\u001b[1;32m    220\u001b[0m     ret \u001b[38;5;241m=\u001b[39m LoggedEventReturnValue(\u001b[38;5;28;01mNone\u001b[39;00m)\n",
      "File \u001b[0;32m/opt/anaconda3/envs/eds220-env/lib/python3.11/site-packages/otter/check/utils.py:213\u001b[0m, in \u001b[0;36mlogs_event.<locals>.event_logger\u001b[0;34m(wrapped, self, args, kwargs)\u001b[0m\n\u001b[1;32m    208\u001b[0m \u001b[38;5;250m\u001b[39m\u001b[38;5;124;03m\"\"\"\u001b[39;00m\n\u001b[1;32m    209\u001b[0m \u001b[38;5;124;03mRuns a method, catching any errors and logging the call. Returns the unwrapped return value\u001b[39;00m\n\u001b[1;32m    210\u001b[0m \u001b[38;5;124;03mof the wrapped function.\u001b[39;00m\n\u001b[1;32m    211\u001b[0m \u001b[38;5;124;03m\"\"\"\u001b[39;00m\n\u001b[1;32m    212\u001b[0m \u001b[38;5;28;01mtry\u001b[39;00m:\n\u001b[0;32m--> 213\u001b[0m     ret: Optional[LoggedEventReturnValue[T]] \u001b[38;5;241m=\u001b[39m \u001b[43mwrapped\u001b[49m\u001b[43m(\u001b[49m\u001b[38;5;241;43m*\u001b[39;49m\u001b[43margs\u001b[49m\u001b[43m,\u001b[49m\u001b[43m \u001b[49m\u001b[38;5;241;43m*\u001b[39;49m\u001b[38;5;241;43m*\u001b[39;49m\u001b[43mkwargs\u001b[49m\u001b[43m)\u001b[49m\n\u001b[1;32m    215\u001b[0m \u001b[38;5;28;01mexcept\u001b[39;00m \u001b[38;5;167;01mException\u001b[39;00m \u001b[38;5;28;01mas\u001b[39;00m e:\n\u001b[1;32m    216\u001b[0m     \u001b[38;5;28mself\u001b[39m\u001b[38;5;241m.\u001b[39m_log_event(event_type, success\u001b[38;5;241m=\u001b[39m\u001b[38;5;28;01mFalse\u001b[39;00m, error\u001b[38;5;241m=\u001b[39me)\n",
      "File \u001b[0;32m/opt/anaconda3/envs/eds220-env/lib/python3.11/site-packages/otter/check/notebook.py:144\u001b[0m, in \u001b[0;36mNotebook.__init__\u001b[0;34m(self, nb_path, tests_dir, tests_url_prefix, colab, jupyterlite)\u001b[0m\n\u001b[1;32m    140\u001b[0m     \u001b[38;5;28mself\u001b[39m\u001b[38;5;241m.\u001b[39m_notebook \u001b[38;5;241m=\u001b[39m \u001b[38;5;28mself\u001b[39m\u001b[38;5;241m.\u001b[39m_config[\u001b[38;5;124m\"\u001b[39m\u001b[38;5;124mnotebook\u001b[39m\u001b[38;5;124m\"\u001b[39m]\n\u001b[1;32m    142\u001b[0m \u001b[38;5;28;01mif\u001b[39;00m \u001b[38;5;28mself\u001b[39m\u001b[38;5;241m.\u001b[39m_notebook:\n\u001b[1;32m    143\u001b[0m     \u001b[38;5;28mself\u001b[39m\u001b[38;5;241m.\u001b[39m_nbmeta_config \u001b[38;5;241m=\u001b[39m NBMetadataConfig\u001b[38;5;241m.\u001b[39mfrom_notebook(\n\u001b[0;32m--> 144\u001b[0m         \u001b[43mnbf\u001b[49m\u001b[38;5;241;43m.\u001b[39;49m\u001b[43mread\u001b[49m\u001b[43m(\u001b[49m\u001b[38;5;28;43mself\u001b[39;49m\u001b[38;5;241;43m.\u001b[39;49m\u001b[43m_notebook\u001b[49m\u001b[43m,\u001b[49m\u001b[43m \u001b[49m\u001b[43mnbf\u001b[49m\u001b[38;5;241;43m.\u001b[39;49m\u001b[43mNO_CONVERT\u001b[49m\u001b[43m)\u001b[49m)\n\u001b[1;32m    145\u001b[0m \u001b[38;5;28;01melse\u001b[39;00m:\n\u001b[1;32m    146\u001b[0m     \u001b[38;5;28mself\u001b[39m\u001b[38;5;241m.\u001b[39m_nbmeta_config \u001b[38;5;241m=\u001b[39m NBMetadataConfig()\n",
      "File \u001b[0;32m/opt/anaconda3/envs/eds220-env/lib/python3.11/site-packages/nbformat/__init__.py:171\u001b[0m, in \u001b[0;36mread\u001b[0;34m(fp, as_version, capture_validation_error, **kwargs)\u001b[0m\n\u001b[1;32m    169\u001b[0m     buf \u001b[38;5;241m=\u001b[39m fp\u001b[38;5;241m.\u001b[39mread()\n\u001b[1;32m    170\u001b[0m \u001b[38;5;28;01mexcept\u001b[39;00m \u001b[38;5;167;01mAttributeError\u001b[39;00m:\n\u001b[0;32m--> 171\u001b[0m     \u001b[38;5;28;01mwith\u001b[39;00m \u001b[38;5;28;43mopen\u001b[39;49m\u001b[43m(\u001b[49m\u001b[43mfp\u001b[49m\u001b[43m,\u001b[49m\u001b[43m \u001b[49m\u001b[43mencoding\u001b[49m\u001b[38;5;241;43m=\u001b[39;49m\u001b[38;5;124;43m\"\u001b[39;49m\u001b[38;5;124;43mutf8\u001b[39;49m\u001b[38;5;124;43m\"\u001b[39;49m\u001b[43m)\u001b[49m \u001b[38;5;28;01mas\u001b[39;00m f:  \u001b[38;5;66;03m# noqa: PTH123\u001b[39;00m\n\u001b[1;32m    172\u001b[0m         \u001b[38;5;28;01mreturn\u001b[39;00m reads(f\u001b[38;5;241m.\u001b[39mread(), as_version, capture_validation_error, \u001b[38;5;241m*\u001b[39m\u001b[38;5;241m*\u001b[39mkwargs)\n\u001b[1;32m    174\u001b[0m \u001b[38;5;28;01mreturn\u001b[39;00m reads(buf, as_version, capture_validation_error, \u001b[38;5;241m*\u001b[39m\u001b[38;5;241m*\u001b[39mkwargs)\n",
      "\u001b[0;31mFileNotFoundError\u001b[0m: [Errno 2] No such file or directory: 'hwk1-task2-corals.ipynb'"
     ]
    }
   ],
   "source": [
    "# Initialize Otter\n",
    "import otter\n",
    "grader = otter.Notebook(\"hwk1-task2-corals.ipynb\")"
   ]
  },
  {
   "cell_type": "markdown",
   "metadata": {},
   "source": [
    "# Task 2: Exploring coral diversity data\n",
    "\n",
    "## Instructions \n",
    "\n",
    "- First, update the following cell to have a link to *your* Homework 1 GitHub repository:\n"
   ]
  },
  {
   "cell_type": "markdown",
   "metadata": {},
   "source": [
    "**UPDATE THIS LINK:**\n",
    "\n",
    "[https://github.com/petervitale910/eds220-hwk1]()"
   ]
  },
  {
   "cell_type": "markdown",
   "metadata": {},
   "source": [
    "- This task covers topics on the lesson on [subsetting `pandas.DataFrames`](https://meds-eds-220.github.io/MEDS-eds-220-course/book/chapters/lesson-3-pandas-subsetting/lesson-3-pandas-subsetting.html). The best strategy to solve it is to get together with your classmates and work on it together after that lecture.\n",
    "\n",
    "- Review the [complete rubric for this task](https://docs.google.com/document/d/131OnUDOLpOl94SlaMU9nGqT998ABrjFS/edit?usp=sharing&ouid=111507336322611936333&rtpof=true&sd=true) before starting.\n",
    "\n",
    "- **Make at least 5 commits at moments you think are adequate.** We'll check your repository and view the commit history.\n",
    "\n",
    "- **Add comments for all your code.** Err on the side of commenting too much for now. Comments should follow best practices.\n",
    "\n"
   ]
  },
  {
   "cell_type": "markdown",
   "metadata": {
    "deletable": false,
    "editable": false
   },
   "source": [
    "<!-- BEGIN QUESTION -->\n",
    "\n",
    "\n",
    "## 1\n",
    "For this task we are going to use data about  [Western Indian Ocean Coral Diversity (McClanahan, 2023)](https://knb.ecoinformatics.org/view/doi%3A10.5063%2FF1K35S3H) from the Knowledge Network for Biocomplexity (KNB) data repository. \n",
    "\n",
    "a. Navigate to the dataset's link and explore the data package. \n",
    " \n",
    "b. Use the next markdown cell to add a brief description of the dataset, including a citation, date of access, and a link to the archive. \n"
   ]
  },
  {
   "cell_type": "markdown",
   "metadata": {
    "tags": [
     "otter_answer_cell"
    ]
   },
   "source": [
    "The data that is being used in this analysis is: [Western Indian Ocean Coral Diversity (McClanahan, 2023)](https://knb.ecoinformatics.org/view/doi%3A10.5063%2FF1K35S3H). This dataset contains observations of coral reefs off the coast of madagascar between 1999 and 2022. The data has observations regarding coral reef locations, number of coral taxa, climate change, and three other variables. The researchers noted that increased heat and rate vartiables will lead to negative effects on corals. \n",
    "\n",
    "### Reference\n",
    "\n",
    "KBN, 2023, Western Indian Ocean Coral Diversity[doi:10.5063/F1K35S3H](https://knb.ecoinformatics.org/view/doi:10.5063/F1K35S3H) accesed on 10/5/25"
   ]
  },
  {
   "cell_type": "markdown",
   "metadata": {
    "deletable": false,
    "editable": false
   },
   "source": [
    "<!-- END QUESTION -->\n",
    "\n",
    "<!-- BEGIN QUESTION -->\n",
    "\n",
    "## 2\n",
    "In the next code cell, import the `pandas` package using standard abbreviation in a code cell.\n",
    "\n",
    "Read in the data from the URL using the `pd.read_csv` function and store it as `coral_div` like this:\n",
    "\n",
    "```\n",
    "# read in data\n",
    "coral_div = pd.read_csv('the URL goes here')\n",
    "```"
   ]
  },
  {
   "cell_type": "code",
   "execution_count": 8,
   "metadata": {
    "scrolled": true,
    "tags": [
     "otter_answer_cell"
    ]
   },
   "outputs": [],
   "source": [
    "import pandas as pd\n",
    "coral_div = pd.read_csv('data/coral_data.csv')"
   ]
  },
  {
   "cell_type": "markdown",
   "metadata": {
    "deletable": false,
    "editable": false
   },
   "source": [
    "<!-- END QUESTION -->\n",
    "\n",
    "## 3\n",
    "\n",
    "Use attributes and methods of the `coral_div` data frame to obtain the following information about it:\n",
    "\n",
    "Use the code cells marked a-e. For each, add a comment explaining what is the ouput."
   ]
  },
  {
   "cell_type": "markdown",
   "metadata": {
    "deletable": false,
    "editable": false
   },
   "source": [
    "a. how many rows and columns does it have? Store your answers in the `rows` and `columns` variables. "
   ]
  },
  {
   "cell_type": "code",
   "execution_count": 7,
   "metadata": {
    "tags": [
     "otter_answer_cell"
    ]
   },
   "outputs": [],
   "source": [
    "#a\n",
    "rows = coral_div.shape[0] # This information is the shape of the df and has these numbers as rows, columns\n",
    "columns = coral_div.shape[1]"
   ]
  },
  {
   "cell_type": "code",
   "execution_count": null,
   "metadata": {
    "deletable": false,
    "editable": false,
    "tags": []
   },
   "outputs": [],
   "source": [
    "grader.check(\"q3_a\")"
   ]
  },
  {
   "cell_type": "markdown",
   "metadata": {
    "deletable": false,
    "editable": false
   },
   "source": [
    "b. What are the column names? Store your answer in the `coral_div_columns` variable."
   ]
  },
  {
   "cell_type": "code",
   "execution_count": null,
   "metadata": {
    "tags": [
     "otter_answer_cell"
    ]
   },
   "outputs": [],
   "source": [
    "#b\n",
    "coral_div_columns = coral_div.columns # Pull out the column names"
   ]
  },
  {
   "cell_type": "code",
   "execution_count": null,
   "metadata": {
    "deletable": false,
    "editable": false,
    "tags": []
   },
   "outputs": [],
   "source": [
    "grader.check(\"q3_b\")"
   ]
  },
  {
   "cell_type": "markdown",
   "metadata": {
    "deletable": false,
    "editable": false
   },
   "source": [
    "c. what are the data types of the columns? Store your answer in the `coral_div_types`."
   ]
  },
  {
   "cell_type": "code",
   "execution_count": null,
   "metadata": {
    "tags": [
     "otter_answer_cell"
    ]
   },
   "outputs": [],
   "source": [
    "#c\n",
    "coral_div_types = coral_div.dtypes # Look at the types in the data frame"
   ]
  },
  {
   "cell_type": "code",
   "execution_count": null,
   "metadata": {
    "deletable": false,
    "editable": false,
    "tags": []
   },
   "outputs": [],
   "source": [
    "grader.check(\"q3_c\")"
   ]
  },
  {
   "cell_type": "markdown",
   "metadata": {
    "deletable": false,
    "editable": false
   },
   "source": [
    "d. display the first 8 rows with all the column names. For this one, you will need to udpate a `pandas` option (HINT: check the first discussion section). Store your answer in the `first_8_rows` variable."
   ]
  },
  {
   "cell_type": "code",
   "execution_count": null,
   "metadata": {
    "tags": [
     "otter_answer_cell"
    ]
   },
   "outputs": [],
   "source": [
    "#d\n",
    "first_8_rows = coral_div.head(8) # Head Shows the first few rows and i specify the first 8 rows"
   ]
  },
  {
   "cell_type": "code",
   "execution_count": null,
   "metadata": {
    "tags": [
     "otter_answer_cell"
    ]
   },
   "outputs": [],
   "source": [
    "# View the dataframe \n",
    "first_8_rows"
   ]
  },
  {
   "cell_type": "code",
   "execution_count": null,
   "metadata": {
    "deletable": false,
    "editable": false,
    "tags": []
   },
   "outputs": [],
   "source": [
    "grader.check(\"q3_d\")"
   ]
  },
  {
   "cell_type": "markdown",
   "metadata": {
    "deletable": false,
    "editable": false
   },
   "source": [
    "<!-- BEGIN QUESTION -->\n",
    "\n",
    "e. Write code to find out some other inital information you are interested in. "
   ]
  },
  {
   "cell_type": "code",
   "execution_count": null,
   "metadata": {
    "tags": [
     "otter_answer_cell"
    ]
   },
   "outputs": [],
   "source": [
    "coral_div.describe # This gives some of the information in the rows\n"
   ]
  },
  {
   "cell_type": "markdown",
   "metadata": {
    "deletable": false,
    "editable": false
   },
   "source": [
    "<!-- END QUESTION -->\n",
    "\n",
    "<!-- BEGIN QUESTION -->\n",
    "\n",
    "## 4\n",
    "\n",
    "Some of the columns have data type `int64` and some have data type `float64`. What is the difference between these `int64` and `float64`?\n"
   ]
  },
  {
   "cell_type": "markdown",
   "metadata": {
    "tags": [
     "otter_answer_cell"
    ]
   },
   "source": [
    "Int64's are whole numbers while float64's represent any number with a decimal point.\n",
    "\n",
    "Ex.\n",
    "- '8' would be an int64\n",
    "- '8.00' would be a float64"
   ]
  },
  {
   "cell_type": "markdown",
   "metadata": {
    "deletable": false,
    "editable": false
   },
   "source": [
    "<!-- END QUESTION -->\n",
    "\n",
    "<!-- BEGIN QUESTION -->\n",
    "\n",
    "## 5\n",
    "\n",
    "The `Country` column indicates the country where the coral reef is located. Explain, in your own words, what is the ouput of `coral_div['Country']` and `coral_div['Country'].unique()`. "
   ]
  },
  {
   "cell_type": "code",
   "execution_count": null,
   "metadata": {
    "tags": []
   },
   "outputs": [],
   "source": [
    "coral_div['Country'].unique()"
   ]
  },
  {
   "cell_type": "markdown",
   "metadata": {
    "tags": [
     "otter_answer_cell"
    ]
   },
   "source": [
    "- `coral_div['Country']` shows the country column of the coral div data frame\n",
    "- `coral_div['Country'].unique()` shows the unique countries in the country column"
   ]
  },
  {
   "cell_type": "markdown",
   "metadata": {
    "deletable": false,
    "editable": false
   },
   "source": [
    "<!-- END QUESTION -->\n",
    "\n",
    "## 6\n",
    "\n",
    "Check the dataset's [metadata file README_md.doc](https://knb.ecoinformatics.org/view/doi:10.5063/F1K35S3H) to find which column has information about who made an observation. How many observers collected this data? HINT: Check this [method for `pandas.DataFrame`](https://pandas.pydata.org/docs/reference/api/pandas.DataFrame.nunique.html). Store your answer in the `unique_observers` variable."
   ]
  },
  {
   "cell_type": "code",
   "execution_count": null,
   "metadata": {
    "tags": [
     "otter_answer_cell"
    ]
   },
   "outputs": [],
   "source": [
    "unique_observers = coral_div['Observer'].nunique() # Nunique indicates the number unique"
   ]
  },
  {
   "cell_type": "code",
   "execution_count": null,
   "metadata": {
    "tags": []
   },
   "outputs": [],
   "source": [
    "unique_observers"
   ]
  },
  {
   "cell_type": "code",
   "execution_count": null,
   "metadata": {
    "deletable": false,
    "editable": false,
    "tags": []
   },
   "outputs": [],
   "source": [
    "grader.check(\"q6\")"
   ]
  },
  {
   "cell_type": "markdown",
   "metadata": {},
   "source": [
    "## 7\n",
    "\n",
    "The `Coralcover` column indicates the percent of hard coral cover in each 6 km reef cell surveyed. "
   ]
  },
  {
   "cell_type": "markdown",
   "metadata": {
    "deletable": false,
    "editable": false
   },
   "source": [
    "<!-- BEGIN QUESTION -->\n",
    "\n",
    "a)  Describe, in detail,  what kind of object `coral_div['Coralcover']>= 50` is."
   ]
  },
  {
   "cell_type": "markdown",
   "metadata": {},
   "source": [
    "`coral_div['Coralcover']>= 50` outputs a *series* of boolean values in the coral column, in which if the values are > 50 it returns `True` and if not it returns `False`"
   ]
  },
  {
   "cell_type": "markdown",
   "metadata": {
    "deletable": false,
    "editable": false
   },
   "source": [
    "<!-- END QUESTION -->\n",
    "\n",
    "<!-- BEGIN QUESTION -->\n",
    "\n",
    "b) What data is `coral_div[coral_div['Coralcover'] >= 50]` selecting?"
   ]
  },
  {
   "cell_type": "markdown",
   "metadata": {
    "jupyter": {
     "source_hidden": true
    },
    "tags": [
     "otter_answer_cell"
    ]
   },
   "source": [
    "`coral_div['Coralcover']>= 50` is selecting all the columns where the *series* of boolean is set to true. "
   ]
  },
  {
   "cell_type": "markdown",
   "metadata": {
    "deletable": false,
    "editable": false
   },
   "source": [
    "<!-- END QUESTION -->\n",
    "\n",
    "## 8\n",
    "\n",
    "Use code to find if there are there any sites with a 30% coral cover in Tanzania. Store your answer in the `coral_cover` variable."
   ]
  },
  {
   "cell_type": "code",
   "execution_count": 17,
   "metadata": {
    "tags": [
     "otter_answer_cell"
    ]
   },
   "outputs": [],
   "source": [
    "coral_cover = coral_div[(coral_div['Country'] == 'Tanzania') & (coral_div['Coralcover'] == 30)] # Each 'test' needs to be in its own brackets"
   ]
  },
  {
   "cell_type": "code",
   "execution_count": 18,
   "metadata": {
    "tags": [
     "otter_answer_cell"
    ]
   },
   "outputs": [
    {
     "data": {
      "text/html": [
       "<div>\n",
       "<style scoped>\n",
       "    .dataframe tbody tr th:only-of-type {\n",
       "        vertical-align: middle;\n",
       "    }\n",
       "\n",
       "    .dataframe tbody tr th {\n",
       "        vertical-align: top;\n",
       "    }\n",
       "\n",
       "    .dataframe thead th {\n",
       "        text-align: right;\n",
       "    }\n",
       "</style>\n",
       "<table border=\"1\" class=\"dataframe\">\n",
       "  <thead>\n",
       "    <tr style=\"text-align: right;\">\n",
       "      <th></th>\n",
       "      <th>PU_ID</th>\n",
       "      <th>PU_Lat</th>\n",
       "      <th>PU_Lon</th>\n",
       "      <th>Number_of_genera</th>\n",
       "      <th>Country</th>\n",
       "      <th>Ecoregion</th>\n",
       "      <th>Management</th>\n",
       "      <th>Habitat</th>\n",
       "      <th>Observer</th>\n",
       "      <th>Depth</th>\n",
       "      <th>...</th>\n",
       "      <th>SST_bimodality</th>\n",
       "      <th>SST_Skewness</th>\n",
       "      <th>ClimateStressModel</th>\n",
       "      <th>Netflow</th>\n",
       "      <th>Indegree</th>\n",
       "      <th>Outdegree</th>\n",
       "      <th>Retention</th>\n",
       "      <th>min_yr</th>\n",
       "      <th>max_yr</th>\n",
       "      <th>no_replicates</th>\n",
       "    </tr>\n",
       "  </thead>\n",
       "  <tbody>\n",
       "    <tr>\n",
       "      <th>63</th>\n",
       "      <td>693</td>\n",
       "      <td>39.391121</td>\n",
       "      <td>-5.782490</td>\n",
       "      <td>10</td>\n",
       "      <td>Tanzania</td>\n",
       "      <td>East African Coral Coast</td>\n",
       "      <td>Fished</td>\n",
       "      <td>Lagoon/Back reef</td>\n",
       "      <td>Nyawira</td>\n",
       "      <td>5.000000</td>\n",
       "      <td>...</td>\n",
       "      <td>0.490512</td>\n",
       "      <td>-0.101724</td>\n",
       "      <td>0.655600</td>\n",
       "      <td>-0.309514</td>\n",
       "      <td>77.00</td>\n",
       "      <td>65.25</td>\n",
       "      <td>147.50</td>\n",
       "      <td>2018</td>\n",
       "      <td>2018</td>\n",
       "      <td>2</td>\n",
       "    </tr>\n",
       "    <tr>\n",
       "      <th>64</th>\n",
       "      <td>697</td>\n",
       "      <td>39.391121</td>\n",
       "      <td>-5.804983</td>\n",
       "      <td>22</td>\n",
       "      <td>Tanzania</td>\n",
       "      <td>East African Coral Coast</td>\n",
       "      <td>Fished</td>\n",
       "      <td>Lagoon/Back reef</td>\n",
       "      <td>Nyawira</td>\n",
       "      <td>9.166667</td>\n",
       "      <td>...</td>\n",
       "      <td>0.490769</td>\n",
       "      <td>-0.100365</td>\n",
       "      <td>0.683050</td>\n",
       "      <td>-0.309514</td>\n",
       "      <td>77.00</td>\n",
       "      <td>65.25</td>\n",
       "      <td>147.50</td>\n",
       "      <td>2010</td>\n",
       "      <td>2018</td>\n",
       "      <td>3</td>\n",
       "    </tr>\n",
       "    <tr>\n",
       "      <th>341</th>\n",
       "      <td>4294</td>\n",
       "      <td>39.211458</td>\n",
       "      <td>-4.814515</td>\n",
       "      <td>37</td>\n",
       "      <td>Tanzania</td>\n",
       "      <td>East African Coral Coast</td>\n",
       "      <td>Fished</td>\n",
       "      <td>Slope</td>\n",
       "      <td>Nyawira</td>\n",
       "      <td>11.000000</td>\n",
       "      <td>...</td>\n",
       "      <td>0.451293</td>\n",
       "      <td>-0.048992</td>\n",
       "      <td>0.608900</td>\n",
       "      <td>0.514920</td>\n",
       "      <td>46.00</td>\n",
       "      <td>49.50</td>\n",
       "      <td>82.75</td>\n",
       "      <td>2018</td>\n",
       "      <td>2018</td>\n",
       "      <td>1</td>\n",
       "    </tr>\n",
       "    <tr>\n",
       "      <th>342</th>\n",
       "      <td>4299</td>\n",
       "      <td>39.233916</td>\n",
       "      <td>-4.837043</td>\n",
       "      <td>26</td>\n",
       "      <td>Tanzania</td>\n",
       "      <td>East African Coral Coast</td>\n",
       "      <td>Fished</td>\n",
       "      <td>Slope</td>\n",
       "      <td>Nyawira</td>\n",
       "      <td>12.500000</td>\n",
       "      <td>...</td>\n",
       "      <td>0.451293</td>\n",
       "      <td>-0.048992</td>\n",
       "      <td>0.601725</td>\n",
       "      <td>0.514920</td>\n",
       "      <td>46.00</td>\n",
       "      <td>49.50</td>\n",
       "      <td>82.75</td>\n",
       "      <td>2018</td>\n",
       "      <td>2018</td>\n",
       "      <td>2</td>\n",
       "    </tr>\n",
       "    <tr>\n",
       "      <th>343</th>\n",
       "      <td>4302</td>\n",
       "      <td>39.211458</td>\n",
       "      <td>-4.859570</td>\n",
       "      <td>31</td>\n",
       "      <td>Tanzania</td>\n",
       "      <td>East African Coral Coast</td>\n",
       "      <td>Fished</td>\n",
       "      <td>Slope</td>\n",
       "      <td>Nyawira</td>\n",
       "      <td>7.000000</td>\n",
       "      <td>...</td>\n",
       "      <td>0.452402</td>\n",
       "      <td>-0.050477</td>\n",
       "      <td>0.595200</td>\n",
       "      <td>0.514920</td>\n",
       "      <td>46.00</td>\n",
       "      <td>49.50</td>\n",
       "      <td>82.75</td>\n",
       "      <td>2018</td>\n",
       "      <td>2018</td>\n",
       "      <td>1</td>\n",
       "    </tr>\n",
       "    <tr>\n",
       "      <th>344</th>\n",
       "      <td>4303</td>\n",
       "      <td>39.301290</td>\n",
       "      <td>-4.859570</td>\n",
       "      <td>23</td>\n",
       "      <td>Tanzania</td>\n",
       "      <td>East African Coral Coast</td>\n",
       "      <td>Fished</td>\n",
       "      <td>Slope</td>\n",
       "      <td>Nyawira</td>\n",
       "      <td>11.000000</td>\n",
       "      <td>...</td>\n",
       "      <td>0.453806</td>\n",
       "      <td>-0.048007</td>\n",
       "      <td>0.602300</td>\n",
       "      <td>0.514920</td>\n",
       "      <td>46.00</td>\n",
       "      <td>49.50</td>\n",
       "      <td>82.75</td>\n",
       "      <td>2018</td>\n",
       "      <td>2018</td>\n",
       "      <td>1</td>\n",
       "    </tr>\n",
       "    <tr>\n",
       "      <th>377</th>\n",
       "      <td>4906</td>\n",
       "      <td>39.660616</td>\n",
       "      <td>-4.972195</td>\n",
       "      <td>33</td>\n",
       "      <td>Tanzania</td>\n",
       "      <td>East African Coral Coast</td>\n",
       "      <td>Fished</td>\n",
       "      <td>Lagoon/Back reef</td>\n",
       "      <td>Nyawira</td>\n",
       "      <td>9.000000</td>\n",
       "      <td>...</td>\n",
       "      <td>0.488396</td>\n",
       "      <td>-0.074229</td>\n",
       "      <td>0.671900</td>\n",
       "      <td>0.156359</td>\n",
       "      <td>66.75</td>\n",
       "      <td>41.75</td>\n",
       "      <td>38.00</td>\n",
       "      <td>2013</td>\n",
       "      <td>2013</td>\n",
       "      <td>2</td>\n",
       "    </tr>\n",
       "    <tr>\n",
       "      <th>388</th>\n",
       "      <td>5049</td>\n",
       "      <td>39.615700</td>\n",
       "      <td>-5.490011</td>\n",
       "      <td>14</td>\n",
       "      <td>Tanzania</td>\n",
       "      <td>East African Coral Coast</td>\n",
       "      <td>Fished</td>\n",
       "      <td>Lagoon/Back reef</td>\n",
       "      <td>Nyawira</td>\n",
       "      <td>4.000000</td>\n",
       "      <td>...</td>\n",
       "      <td>0.489921</td>\n",
       "      <td>-0.109523</td>\n",
       "      <td>0.657000</td>\n",
       "      <td>-0.328399</td>\n",
       "      <td>93.25</td>\n",
       "      <td>57.25</td>\n",
       "      <td>650.25</td>\n",
       "      <td>2018</td>\n",
       "      <td>2018</td>\n",
       "      <td>1</td>\n",
       "    </tr>\n",
       "    <tr>\n",
       "      <th>389</th>\n",
       "      <td>5050</td>\n",
       "      <td>39.638158</td>\n",
       "      <td>-5.490011</td>\n",
       "      <td>18</td>\n",
       "      <td>Tanzania</td>\n",
       "      <td>East African Coral Coast</td>\n",
       "      <td>Fished</td>\n",
       "      <td>Lagoon/Back reef</td>\n",
       "      <td>Nyawira</td>\n",
       "      <td>6.000000</td>\n",
       "      <td>...</td>\n",
       "      <td>0.489921</td>\n",
       "      <td>-0.109523</td>\n",
       "      <td>0.618825</td>\n",
       "      <td>-0.328399</td>\n",
       "      <td>93.25</td>\n",
       "      <td>57.25</td>\n",
       "      <td>650.25</td>\n",
       "      <td>2018</td>\n",
       "      <td>2018</td>\n",
       "      <td>1</td>\n",
       "    </tr>\n",
       "  </tbody>\n",
       "</table>\n",
       "<p>9 rows × 42 columns</p>\n",
       "</div>"
      ],
      "text/plain": [
       "     PU_ID     PU_Lat    PU_Lon  Number_of_genera   Country  \\\n",
       "63     693  39.391121 -5.782490                10  Tanzania   \n",
       "64     697  39.391121 -5.804983                22  Tanzania   \n",
       "341   4294  39.211458 -4.814515                37  Tanzania   \n",
       "342   4299  39.233916 -4.837043                26  Tanzania   \n",
       "343   4302  39.211458 -4.859570                31  Tanzania   \n",
       "344   4303  39.301290 -4.859570                23  Tanzania   \n",
       "377   4906  39.660616 -4.972195                33  Tanzania   \n",
       "388   5049  39.615700 -5.490011                14  Tanzania   \n",
       "389   5050  39.638158 -5.490011                18  Tanzania   \n",
       "\n",
       "                    Ecoregion Management           Habitat Observer  \\\n",
       "63   East African Coral Coast     Fished  Lagoon/Back reef  Nyawira   \n",
       "64   East African Coral Coast     Fished  Lagoon/Back reef  Nyawira   \n",
       "341  East African Coral Coast     Fished             Slope  Nyawira   \n",
       "342  East African Coral Coast     Fished             Slope  Nyawira   \n",
       "343  East African Coral Coast     Fished             Slope  Nyawira   \n",
       "344  East African Coral Coast     Fished             Slope  Nyawira   \n",
       "377  East African Coral Coast     Fished  Lagoon/Back reef  Nyawira   \n",
       "388  East African Coral Coast     Fished  Lagoon/Back reef  Nyawira   \n",
       "389  East African Coral Coast     Fished  Lagoon/Back reef  Nyawira   \n",
       "\n",
       "         Depth  ...  SST_bimodality  SST_Skewness  ClimateStressModel  \\\n",
       "63    5.000000  ...        0.490512     -0.101724            0.655600   \n",
       "64    9.166667  ...        0.490769     -0.100365            0.683050   \n",
       "341  11.000000  ...        0.451293     -0.048992            0.608900   \n",
       "342  12.500000  ...        0.451293     -0.048992            0.601725   \n",
       "343   7.000000  ...        0.452402     -0.050477            0.595200   \n",
       "344  11.000000  ...        0.453806     -0.048007            0.602300   \n",
       "377   9.000000  ...        0.488396     -0.074229            0.671900   \n",
       "388   4.000000  ...        0.489921     -0.109523            0.657000   \n",
       "389   6.000000  ...        0.489921     -0.109523            0.618825   \n",
       "\n",
       "      Netflow  Indegree  Outdegree  Retention  min_yr  max_yr  no_replicates  \n",
       "63  -0.309514     77.00      65.25     147.50    2018    2018              2  \n",
       "64  -0.309514     77.00      65.25     147.50    2010    2018              3  \n",
       "341  0.514920     46.00      49.50      82.75    2018    2018              1  \n",
       "342  0.514920     46.00      49.50      82.75    2018    2018              2  \n",
       "343  0.514920     46.00      49.50      82.75    2018    2018              1  \n",
       "344  0.514920     46.00      49.50      82.75    2018    2018              1  \n",
       "377  0.156359     66.75      41.75      38.00    2013    2013              2  \n",
       "388 -0.328399     93.25      57.25     650.25    2018    2018              1  \n",
       "389 -0.328399     93.25      57.25     650.25    2018    2018              1  \n",
       "\n",
       "[9 rows x 42 columns]"
      ]
     },
     "execution_count": 18,
     "metadata": {},
     "output_type": "execute_result"
    }
   ],
   "source": [
    "# View the dataframe\n",
    "coral_cover"
   ]
  },
  {
   "cell_type": "code",
   "execution_count": 19,
   "metadata": {
    "deletable": false,
    "editable": false
   },
   "outputs": [
    {
     "data": {
      "text/html": [
       "<p><strong><pre style='display: inline;'>q8</pre></strong> passed! 💯</p>"
      ],
      "text/plain": [
       "q8 results: All test cases passed!"
      ]
     },
     "execution_count": 19,
     "metadata": {},
     "output_type": "execute_result"
    }
   ],
   "source": [
    "grader.check(\"q8\")"
   ]
  },
  {
   "cell_type": "markdown",
   "metadata": {
    "deletable": false,
    "editable": false
   },
   "source": [
    "## 9\n",
    "\n",
    "We are interested in looking at the PH of sea water (`PH` column),  mean salinity (`Salinity_mean` column), and depth of survey location in meters (`Depth` column). Subset the data frame by selecting only these column. Store your answer in the `filtered_data` variable"
   ]
  },
  {
   "cell_type": "code",
   "execution_count": 20,
   "metadata": {
    "tags": [
     "otter_answer_cell"
    ]
   },
   "outputs": [],
   "source": [
    "filtered_data = coral_div[['PH','Salinity_mean', 'Depth']] # We use double bracket to select  a list of columns"
   ]
  },
  {
   "cell_type": "code",
   "execution_count": 21,
   "metadata": {
    "deletable": false,
    "editable": false
   },
   "outputs": [
    {
     "data": {
      "text/html": [
       "<div>\n",
       "<style scoped>\n",
       "    .dataframe tbody tr th:only-of-type {\n",
       "        vertical-align: middle;\n",
       "    }\n",
       "\n",
       "    .dataframe tbody tr th {\n",
       "        vertical-align: top;\n",
       "    }\n",
       "\n",
       "    .dataframe thead th {\n",
       "        text-align: right;\n",
       "    }\n",
       "</style>\n",
       "<table border=\"1\" class=\"dataframe\">\n",
       "  <thead>\n",
       "    <tr style=\"text-align: right;\">\n",
       "      <th></th>\n",
       "      <th>PH</th>\n",
       "      <th>Salinity_mean</th>\n",
       "      <th>Depth</th>\n",
       "    </tr>\n",
       "  </thead>\n",
       "  <tbody>\n",
       "    <tr>\n",
       "      <th>0</th>\n",
       "      <td>8.2175</td>\n",
       "      <td>35.167646</td>\n",
       "      <td>11.0</td>\n",
       "    </tr>\n",
       "    <tr>\n",
       "      <th>1</th>\n",
       "      <td>8.2175</td>\n",
       "      <td>35.167646</td>\n",
       "      <td>2.0</td>\n",
       "    </tr>\n",
       "    <tr>\n",
       "      <th>2</th>\n",
       "      <td>8.2175</td>\n",
       "      <td>35.167646</td>\n",
       "      <td>4.0</td>\n",
       "    </tr>\n",
       "    <tr>\n",
       "      <th>3</th>\n",
       "      <td>8.2175</td>\n",
       "      <td>35.167646</td>\n",
       "      <td>3.0</td>\n",
       "    </tr>\n",
       "    <tr>\n",
       "      <th>4</th>\n",
       "      <td>8.2180</td>\n",
       "      <td>35.102688</td>\n",
       "      <td>1.5</td>\n",
       "    </tr>\n",
       "  </tbody>\n",
       "</table>\n",
       "</div>"
      ],
      "text/plain": [
       "       PH  Salinity_mean  Depth\n",
       "0  8.2175      35.167646   11.0\n",
       "1  8.2175      35.167646    2.0\n",
       "2  8.2175      35.167646    4.0\n",
       "3  8.2175      35.167646    3.0\n",
       "4  8.2180      35.102688    1.5"
      ]
     },
     "execution_count": 21,
     "metadata": {},
     "output_type": "execute_result"
    }
   ],
   "source": [
    "# View the dataframe\n",
    "filtered_data.head()"
   ]
  },
  {
   "cell_type": "code",
   "execution_count": 22,
   "metadata": {
    "deletable": false,
    "editable": false
   },
   "outputs": [
    {
     "data": {
      "text/html": [
       "<p><strong><pre style='display: inline;'>q9</pre></strong> passed! ✨</p>"
      ],
      "text/plain": [
       "q9 results: All test cases passed!"
      ]
     },
     "execution_count": 22,
     "metadata": {},
     "output_type": "execute_result"
    }
   ],
   "source": [
    "grader.check(\"q9\")"
   ]
  },
  {
   "cell_type": "markdown",
   "metadata": {
    "deletable": false,
    "editable": false
   },
   "source": [
    "## 10\n",
    "The `max_yr` column indicates the year of last sampling at a given site. Select the PH, salinity, and depth for sites where sampling ended in 2017. Store your answer in the `sampling_2017` variable. `Sampling_2017` should include the following columns in the following order: ` PH, Salinity_mean, Depth, max_yr`. \n"
   ]
  },
  {
   "cell_type": "code",
   "execution_count": 23,
   "metadata": {
    "tags": [
     "otter_answer_cell"
    ]
   },
   "outputs": [],
   "source": [
    "sampling_2017 = coral_div.loc[coral_div['max_yr'] == 2017, ['PH', 'Salinity_mean', 'Depth', 'max_yr']]"
   ]
  },
  {
   "cell_type": "code",
   "execution_count": 24,
   "metadata": {
    "tags": [
     "otter_answer_cell"
    ]
   },
   "outputs": [
    {
     "data": {
      "text/html": [
       "<div>\n",
       "<style scoped>\n",
       "    .dataframe tbody tr th:only-of-type {\n",
       "        vertical-align: middle;\n",
       "    }\n",
       "\n",
       "    .dataframe tbody tr th {\n",
       "        vertical-align: top;\n",
       "    }\n",
       "\n",
       "    .dataframe thead th {\n",
       "        text-align: right;\n",
       "    }\n",
       "</style>\n",
       "<table border=\"1\" class=\"dataframe\">\n",
       "  <thead>\n",
       "    <tr style=\"text-align: right;\">\n",
       "      <th></th>\n",
       "      <th>PH</th>\n",
       "      <th>Salinity_mean</th>\n",
       "      <th>Depth</th>\n",
       "      <th>max_yr</th>\n",
       "    </tr>\n",
       "  </thead>\n",
       "  <tbody>\n",
       "    <tr>\n",
       "      <th>67</th>\n",
       "      <td>8.2150</td>\n",
       "      <td>35.100085</td>\n",
       "      <td>16.000000</td>\n",
       "      <td>2017</td>\n",
       "    </tr>\n",
       "    <tr>\n",
       "      <th>68</th>\n",
       "      <td>8.2145</td>\n",
       "      <td>35.144927</td>\n",
       "      <td>10.000000</td>\n",
       "      <td>2017</td>\n",
       "    </tr>\n",
       "    <tr>\n",
       "      <th>70</th>\n",
       "      <td>8.2150</td>\n",
       "      <td>35.101086</td>\n",
       "      <td>11.000000</td>\n",
       "      <td>2017</td>\n",
       "    </tr>\n",
       "    <tr>\n",
       "      <th>71</th>\n",
       "      <td>8.2150</td>\n",
       "      <td>35.101086</td>\n",
       "      <td>11.000000</td>\n",
       "      <td>2017</td>\n",
       "    </tr>\n",
       "    <tr>\n",
       "      <th>72</th>\n",
       "      <td>8.2150</td>\n",
       "      <td>35.101086</td>\n",
       "      <td>9.000000</td>\n",
       "      <td>2017</td>\n",
       "    </tr>\n",
       "    <tr>\n",
       "      <th>73</th>\n",
       "      <td>8.2150</td>\n",
       "      <td>35.101086</td>\n",
       "      <td>9.000000</td>\n",
       "      <td>2017</td>\n",
       "    </tr>\n",
       "    <tr>\n",
       "      <th>84</th>\n",
       "      <td>8.2110</td>\n",
       "      <td>35.278084</td>\n",
       "      <td>12.500000</td>\n",
       "      <td>2017</td>\n",
       "    </tr>\n",
       "    <tr>\n",
       "      <th>85</th>\n",
       "      <td>8.2110</td>\n",
       "      <td>35.278084</td>\n",
       "      <td>6.000000</td>\n",
       "      <td>2017</td>\n",
       "    </tr>\n",
       "    <tr>\n",
       "      <th>164</th>\n",
       "      <td>8.2220</td>\n",
       "      <td>35.337914</td>\n",
       "      <td>9.875000</td>\n",
       "      <td>2017</td>\n",
       "    </tr>\n",
       "    <tr>\n",
       "      <th>167</th>\n",
       "      <td>8.2220</td>\n",
       "      <td>35.337914</td>\n",
       "      <td>12.075000</td>\n",
       "      <td>2017</td>\n",
       "    </tr>\n",
       "    <tr>\n",
       "      <th>169</th>\n",
       "      <td>8.2220</td>\n",
       "      <td>35.337914</td>\n",
       "      <td>10.300000</td>\n",
       "      <td>2017</td>\n",
       "    </tr>\n",
       "    <tr>\n",
       "      <th>172</th>\n",
       "      <td>8.2220</td>\n",
       "      <td>35.337914</td>\n",
       "      <td>11.000000</td>\n",
       "      <td>2017</td>\n",
       "    </tr>\n",
       "    <tr>\n",
       "      <th>174</th>\n",
       "      <td>8.2225</td>\n",
       "      <td>35.287419</td>\n",
       "      <td>7.266667</td>\n",
       "      <td>2017</td>\n",
       "    </tr>\n",
       "    <tr>\n",
       "      <th>176</th>\n",
       "      <td>8.2225</td>\n",
       "      <td>35.287419</td>\n",
       "      <td>13.225000</td>\n",
       "      <td>2017</td>\n",
       "    </tr>\n",
       "    <tr>\n",
       "      <th>179</th>\n",
       "      <td>8.2225</td>\n",
       "      <td>35.287419</td>\n",
       "      <td>10.550000</td>\n",
       "      <td>2017</td>\n",
       "    </tr>\n",
       "    <tr>\n",
       "      <th>182</th>\n",
       "      <td>8.2220</td>\n",
       "      <td>35.331669</td>\n",
       "      <td>12.033333</td>\n",
       "      <td>2017</td>\n",
       "    </tr>\n",
       "    <tr>\n",
       "      <th>185</th>\n",
       "      <td>8.2230</td>\n",
       "      <td>35.374460</td>\n",
       "      <td>10.900000</td>\n",
       "      <td>2017</td>\n",
       "    </tr>\n",
       "    <tr>\n",
       "      <th>188</th>\n",
       "      <td>8.2230</td>\n",
       "      <td>35.374460</td>\n",
       "      <td>14.725000</td>\n",
       "      <td>2017</td>\n",
       "    </tr>\n",
       "    <tr>\n",
       "      <th>191</th>\n",
       "      <td>8.2230</td>\n",
       "      <td>35.247482</td>\n",
       "      <td>9.725000</td>\n",
       "      <td>2017</td>\n",
       "    </tr>\n",
       "    <tr>\n",
       "      <th>194</th>\n",
       "      <td>8.2230</td>\n",
       "      <td>35.341358</td>\n",
       "      <td>11.075000</td>\n",
       "      <td>2017</td>\n",
       "    </tr>\n",
       "    <tr>\n",
       "      <th>197</th>\n",
       "      <td>8.2230</td>\n",
       "      <td>35.390354</td>\n",
       "      <td>10.600000</td>\n",
       "      <td>2017</td>\n",
       "    </tr>\n",
       "    <tr>\n",
       "      <th>346</th>\n",
       "      <td>8.2165</td>\n",
       "      <td>35.114244</td>\n",
       "      <td>7.000000</td>\n",
       "      <td>2017</td>\n",
       "    </tr>\n",
       "    <tr>\n",
       "      <th>347</th>\n",
       "      <td>8.2165</td>\n",
       "      <td>35.112398</td>\n",
       "      <td>3.000000</td>\n",
       "      <td>2017</td>\n",
       "    </tr>\n",
       "    <tr>\n",
       "      <th>348</th>\n",
       "      <td>8.2165</td>\n",
       "      <td>35.112398</td>\n",
       "      <td>4.000000</td>\n",
       "      <td>2017</td>\n",
       "    </tr>\n",
       "    <tr>\n",
       "      <th>349</th>\n",
       "      <td>8.2160</td>\n",
       "      <td>35.117374</td>\n",
       "      <td>5.500000</td>\n",
       "      <td>2017</td>\n",
       "    </tr>\n",
       "    <tr>\n",
       "      <th>350</th>\n",
       "      <td>8.2160</td>\n",
       "      <td>35.117374</td>\n",
       "      <td>2.000000</td>\n",
       "      <td>2017</td>\n",
       "    </tr>\n",
       "    <tr>\n",
       "      <th>351</th>\n",
       "      <td>8.2160</td>\n",
       "      <td>35.117374</td>\n",
       "      <td>15.000000</td>\n",
       "      <td>2017</td>\n",
       "    </tr>\n",
       "    <tr>\n",
       "      <th>352</th>\n",
       "      <td>8.2160</td>\n",
       "      <td>35.117374</td>\n",
       "      <td>5.000000</td>\n",
       "      <td>2017</td>\n",
       "    </tr>\n",
       "    <tr>\n",
       "      <th>353</th>\n",
       "      <td>8.2165</td>\n",
       "      <td>35.149462</td>\n",
       "      <td>11.000000</td>\n",
       "      <td>2017</td>\n",
       "    </tr>\n",
       "    <tr>\n",
       "      <th>354</th>\n",
       "      <td>8.2160</td>\n",
       "      <td>35.270199</td>\n",
       "      <td>9.000000</td>\n",
       "      <td>2017</td>\n",
       "    </tr>\n",
       "    <tr>\n",
       "      <th>395</th>\n",
       "      <td>8.2400</td>\n",
       "      <td>35.276642</td>\n",
       "      <td>9.416667</td>\n",
       "      <td>2017</td>\n",
       "    </tr>\n",
       "    <tr>\n",
       "      <th>559</th>\n",
       "      <td>8.2120</td>\n",
       "      <td>35.204185</td>\n",
       "      <td>1.500000</td>\n",
       "      <td>2017</td>\n",
       "    </tr>\n",
       "    <tr>\n",
       "      <th>566</th>\n",
       "      <td>8.2400</td>\n",
       "      <td>35.301208</td>\n",
       "      <td>17.000000</td>\n",
       "      <td>2017</td>\n",
       "    </tr>\n",
       "    <tr>\n",
       "      <th>569</th>\n",
       "      <td>8.2400</td>\n",
       "      <td>35.301208</td>\n",
       "      <td>13.833333</td>\n",
       "      <td>2017</td>\n",
       "    </tr>\n",
       "    <tr>\n",
       "      <th>574</th>\n",
       "      <td>8.2400</td>\n",
       "      <td>35.301208</td>\n",
       "      <td>13.470000</td>\n",
       "      <td>2017</td>\n",
       "    </tr>\n",
       "  </tbody>\n",
       "</table>\n",
       "</div>"
      ],
      "text/plain": [
       "         PH  Salinity_mean      Depth  max_yr\n",
       "67   8.2150      35.100085  16.000000    2017\n",
       "68   8.2145      35.144927  10.000000    2017\n",
       "70   8.2150      35.101086  11.000000    2017\n",
       "71   8.2150      35.101086  11.000000    2017\n",
       "72   8.2150      35.101086   9.000000    2017\n",
       "73   8.2150      35.101086   9.000000    2017\n",
       "84   8.2110      35.278084  12.500000    2017\n",
       "85   8.2110      35.278084   6.000000    2017\n",
       "164  8.2220      35.337914   9.875000    2017\n",
       "167  8.2220      35.337914  12.075000    2017\n",
       "169  8.2220      35.337914  10.300000    2017\n",
       "172  8.2220      35.337914  11.000000    2017\n",
       "174  8.2225      35.287419   7.266667    2017\n",
       "176  8.2225      35.287419  13.225000    2017\n",
       "179  8.2225      35.287419  10.550000    2017\n",
       "182  8.2220      35.331669  12.033333    2017\n",
       "185  8.2230      35.374460  10.900000    2017\n",
       "188  8.2230      35.374460  14.725000    2017\n",
       "191  8.2230      35.247482   9.725000    2017\n",
       "194  8.2230      35.341358  11.075000    2017\n",
       "197  8.2230      35.390354  10.600000    2017\n",
       "346  8.2165      35.114244   7.000000    2017\n",
       "347  8.2165      35.112398   3.000000    2017\n",
       "348  8.2165      35.112398   4.000000    2017\n",
       "349  8.2160      35.117374   5.500000    2017\n",
       "350  8.2160      35.117374   2.000000    2017\n",
       "351  8.2160      35.117374  15.000000    2017\n",
       "352  8.2160      35.117374   5.000000    2017\n",
       "353  8.2165      35.149462  11.000000    2017\n",
       "354  8.2160      35.270199   9.000000    2017\n",
       "395  8.2400      35.276642   9.416667    2017\n",
       "559  8.2120      35.204185   1.500000    2017\n",
       "566  8.2400      35.301208  17.000000    2017\n",
       "569  8.2400      35.301208  13.833333    2017\n",
       "574  8.2400      35.301208  13.470000    2017"
      ]
     },
     "execution_count": 24,
     "metadata": {},
     "output_type": "execute_result"
    }
   ],
   "source": [
    "# View the dataframe \n",
    "sampling_2017"
   ]
  },
  {
   "cell_type": "code",
   "execution_count": 25,
   "metadata": {
    "deletable": false,
    "editable": false
   },
   "outputs": [
    {
     "data": {
      "text/html": [
       "<p><strong><pre style='display: inline;'>q10</pre></strong> passed! 🚀</p>"
      ],
      "text/plain": [
       "q10 results: All test cases passed!"
      ]
     },
     "execution_count": 25,
     "metadata": {},
     "output_type": "execute_result"
    }
   ],
   "source": [
    "grader.check(\"q10\")"
   ]
  },
  {
   "cell_type": "markdown",
   "metadata": {
    "deletable": false,
    "editable": false,
    "tags": []
   },
   "source": [
    "## 11\n",
    "Use `iloc` to select rows 95 through 100 (including 100) in the 17th, 20th, and 28th columns and assign these values to a new variable called `subset`. View the new `subset` dataframe.\n",
    "\n",
    "HINT: the ouput columns should be `Salinity_mean`, `mean.npp` and `Current_vel_mean` (in that order!)."
   ]
  },
  {
   "cell_type": "code",
   "execution_count": 26,
   "metadata": {
    "tags": [
     "otter_answer_cell"
    ]
   },
   "outputs": [],
   "source": [
    "subset = coral_div.iloc[95:101, [16,19,27]]  # Because its python the 17th column is actually the 16th as it starts at 0"
   ]
  },
  {
   "cell_type": "code",
   "execution_count": 27,
   "metadata": {
    "tags": [
     "otter_answer_cell"
    ]
   },
   "outputs": [
    {
     "data": {
      "text/html": [
       "<div>\n",
       "<style scoped>\n",
       "    .dataframe tbody tr th:only-of-type {\n",
       "        vertical-align: middle;\n",
       "    }\n",
       "\n",
       "    .dataframe tbody tr th {\n",
       "        vertical-align: top;\n",
       "    }\n",
       "\n",
       "    .dataframe thead th {\n",
       "        text-align: right;\n",
       "    }\n",
       "</style>\n",
       "<table border=\"1\" class=\"dataframe\">\n",
       "  <thead>\n",
       "    <tr style=\"text-align: right;\">\n",
       "      <th></th>\n",
       "      <th>Salinity_mean</th>\n",
       "      <th>mean.npp</th>\n",
       "      <th>Current_vel_mean</th>\n",
       "    </tr>\n",
       "  </thead>\n",
       "  <tbody>\n",
       "    <tr>\n",
       "      <th>95</th>\n",
       "      <td>35.201630</td>\n",
       "      <td>1365.146729</td>\n",
       "      <td>0.878417</td>\n",
       "    </tr>\n",
       "    <tr>\n",
       "      <th>96</th>\n",
       "      <td>35.204185</td>\n",
       "      <td>1117.635010</td>\n",
       "      <td>0.839372</td>\n",
       "    </tr>\n",
       "    <tr>\n",
       "      <th>97</th>\n",
       "      <td>35.234774</td>\n",
       "      <td>1105.270142</td>\n",
       "      <td>0.685955</td>\n",
       "    </tr>\n",
       "    <tr>\n",
       "      <th>98</th>\n",
       "      <td>35.234774</td>\n",
       "      <td>1105.270142</td>\n",
       "      <td>0.685955</td>\n",
       "    </tr>\n",
       "    <tr>\n",
       "      <th>99</th>\n",
       "      <td>35.250068</td>\n",
       "      <td>1082.196411</td>\n",
       "      <td>NaN</td>\n",
       "    </tr>\n",
       "    <tr>\n",
       "      <th>100</th>\n",
       "      <td>35.250068</td>\n",
       "      <td>1082.196411</td>\n",
       "      <td>NaN</td>\n",
       "    </tr>\n",
       "  </tbody>\n",
       "</table>\n",
       "</div>"
      ],
      "text/plain": [
       "     Salinity_mean     mean.npp  Current_vel_mean\n",
       "95       35.201630  1365.146729          0.878417\n",
       "96       35.204185  1117.635010          0.839372\n",
       "97       35.234774  1105.270142          0.685955\n",
       "98       35.234774  1105.270142          0.685955\n",
       "99       35.250068  1082.196411               NaN\n",
       "100      35.250068  1082.196411               NaN"
      ]
     },
     "execution_count": 27,
     "metadata": {},
     "output_type": "execute_result"
    }
   ],
   "source": [
    "# View the dataframe\n",
    "subset"
   ]
  },
  {
   "cell_type": "code",
   "execution_count": 28,
   "metadata": {
    "deletable": false,
    "editable": false
   },
   "outputs": [
    {
     "data": {
      "text/html": [
       "<p><strong><pre style='display: inline;'>q11</pre></strong> passed! 🌟</p>"
      ],
      "text/plain": [
       "q11 results: All test cases passed!"
      ]
     },
     "execution_count": 28,
     "metadata": {},
     "output_type": "execute_result"
    }
   ],
   "source": [
    "grader.check(\"q11\")"
   ]
  },
  {
   "cell_type": "markdown",
   "metadata": {
    "deletable": false,
    "editable": false
   },
   "source": [
    "<!-- BEGIN QUESTION -->\n",
    "\n",
    "## 12 \n",
    "\n",
    "Run `subset.isna()`. Explain what this code does and what the output represents."
   ]
  },
  {
   "cell_type": "code",
   "execution_count": 29,
   "metadata": {
    "tags": []
   },
   "outputs": [
    {
     "data": {
      "text/html": [
       "<div>\n",
       "<style scoped>\n",
       "    .dataframe tbody tr th:only-of-type {\n",
       "        vertical-align: middle;\n",
       "    }\n",
       "\n",
       "    .dataframe tbody tr th {\n",
       "        vertical-align: top;\n",
       "    }\n",
       "\n",
       "    .dataframe thead th {\n",
       "        text-align: right;\n",
       "    }\n",
       "</style>\n",
       "<table border=\"1\" class=\"dataframe\">\n",
       "  <thead>\n",
       "    <tr style=\"text-align: right;\">\n",
       "      <th></th>\n",
       "      <th>Salinity_mean</th>\n",
       "      <th>mean.npp</th>\n",
       "      <th>Current_vel_mean</th>\n",
       "    </tr>\n",
       "  </thead>\n",
       "  <tbody>\n",
       "    <tr>\n",
       "      <th>95</th>\n",
       "      <td>False</td>\n",
       "      <td>False</td>\n",
       "      <td>False</td>\n",
       "    </tr>\n",
       "    <tr>\n",
       "      <th>96</th>\n",
       "      <td>False</td>\n",
       "      <td>False</td>\n",
       "      <td>False</td>\n",
       "    </tr>\n",
       "    <tr>\n",
       "      <th>97</th>\n",
       "      <td>False</td>\n",
       "      <td>False</td>\n",
       "      <td>False</td>\n",
       "    </tr>\n",
       "    <tr>\n",
       "      <th>98</th>\n",
       "      <td>False</td>\n",
       "      <td>False</td>\n",
       "      <td>False</td>\n",
       "    </tr>\n",
       "    <tr>\n",
       "      <th>99</th>\n",
       "      <td>False</td>\n",
       "      <td>False</td>\n",
       "      <td>True</td>\n",
       "    </tr>\n",
       "    <tr>\n",
       "      <th>100</th>\n",
       "      <td>False</td>\n",
       "      <td>False</td>\n",
       "      <td>True</td>\n",
       "    </tr>\n",
       "  </tbody>\n",
       "</table>\n",
       "</div>"
      ],
      "text/plain": [
       "     Salinity_mean  mean.npp  Current_vel_mean\n",
       "95           False     False             False\n",
       "96           False     False             False\n",
       "97           False     False             False\n",
       "98           False     False             False\n",
       "99           False     False              True\n",
       "100          False     False              True"
      ]
     },
     "execution_count": 29,
     "metadata": {},
     "output_type": "execute_result"
    }
   ],
   "source": [
    "subset.isna()"
   ]
  },
  {
   "cell_type": "markdown",
   "metadata": {
    "tags": [
     "otter_answer_cell"
    ]
   },
   "source": [
    "The output of `subset.isna()` is the data frame subset, but with all the values replaced with boolean values. The true values represent where in the df the na values live. "
   ]
  },
  {
   "cell_type": "markdown",
   "metadata": {
    "deletable": false,
    "editable": false
   },
   "source": [
    "<!-- END QUESTION -->\n",
    "\n",
    "<!-- BEGIN QUESTION -->\n",
    "\n",
    "## 13\n",
    "Run `subset.isna().any()`. Explain in your own words what this code does and what the output represents. HINT: check the [documentation of `pandas.Sries.any`](https://pandas.pydata.org/docs/reference/api/pandas.Series.any.html).\n"
   ]
  },
  {
   "cell_type": "markdown",
   "metadata": {
    "tags": [
     "otter_answer_cell"
    ]
   },
   "source": [
    "`subset.isna().any()` tells asks which column contains the nas. The return is the column names and boolean indicating whether the include (true) or do not include (false) nas"
   ]
  },
  {
   "cell_type": "markdown",
   "metadata": {
    "deletable": false,
    "editable": false
   },
   "source": [
    "<!-- END QUESTION -->\n",
    "\n",
    "## 14 \n",
    "\n",
    "Select the rows in `subset` that have NA in the `Current_vel_mean` column. Store your answer in the `subset_na` variable."
   ]
  },
  {
   "cell_type": "code",
   "execution_count": 30,
   "metadata": {
    "jp-MarkdownHeadingCollapsed": true,
    "tags": [
     "otter_answer_cell"
    ]
   },
   "outputs": [],
   "source": [
    "subset_na = subset[subset['Current_vel_mean'].isna() == True]"
   ]
  },
  {
   "cell_type": "code",
   "execution_count": 31,
   "metadata": {
    "tags": [
     "otter_answer_cell"
    ]
   },
   "outputs": [
    {
     "data": {
      "text/html": [
       "<div>\n",
       "<style scoped>\n",
       "    .dataframe tbody tr th:only-of-type {\n",
       "        vertical-align: middle;\n",
       "    }\n",
       "\n",
       "    .dataframe tbody tr th {\n",
       "        vertical-align: top;\n",
       "    }\n",
       "\n",
       "    .dataframe thead th {\n",
       "        text-align: right;\n",
       "    }\n",
       "</style>\n",
       "<table border=\"1\" class=\"dataframe\">\n",
       "  <thead>\n",
       "    <tr style=\"text-align: right;\">\n",
       "      <th></th>\n",
       "      <th>Salinity_mean</th>\n",
       "      <th>mean.npp</th>\n",
       "      <th>Current_vel_mean</th>\n",
       "    </tr>\n",
       "  </thead>\n",
       "  <tbody>\n",
       "    <tr>\n",
       "      <th>99</th>\n",
       "      <td>35.250068</td>\n",
       "      <td>1082.196411</td>\n",
       "      <td>NaN</td>\n",
       "    </tr>\n",
       "    <tr>\n",
       "      <th>100</th>\n",
       "      <td>35.250068</td>\n",
       "      <td>1082.196411</td>\n",
       "      <td>NaN</td>\n",
       "    </tr>\n",
       "  </tbody>\n",
       "</table>\n",
       "</div>"
      ],
      "text/plain": [
       "     Salinity_mean     mean.npp  Current_vel_mean\n",
       "99       35.250068  1082.196411               NaN\n",
       "100      35.250068  1082.196411               NaN"
      ]
     },
     "execution_count": 31,
     "metadata": {},
     "output_type": "execute_result"
    }
   ],
   "source": [
    "# View the dataframe \n",
    "subset_na"
   ]
  },
  {
   "cell_type": "code",
   "execution_count": 32,
   "metadata": {
    "deletable": false,
    "editable": false
   },
   "outputs": [
    {
     "data": {
      "text/html": [
       "<p><strong><pre style='display: inline;'>q14</pre></strong> passed! 🙌</p>"
      ],
      "text/plain": [
       "q14 results: All test cases passed!"
      ]
     },
     "execution_count": 32,
     "metadata": {},
     "output_type": "execute_result"
    }
   ],
   "source": [
    "grader.check(\"q14\")"
   ]
  },
  {
   "cell_type": "markdown",
   "metadata": {
    "deletable": false,
    "editable": false
   },
   "source": [
    "---\n",
    "\n",
    "To double-check your work, the cell below will rerun all of the autograder tests."
   ]
  },
  {
   "cell_type": "code",
   "execution_count": 33,
   "metadata": {
    "deletable": false,
    "editable": false
   },
   "outputs": [
    {
     "data": {
      "text/plain": [
       "q10 results: All test cases passed!\n",
       "\n",
       "q11 results: All test cases passed!\n",
       "\n",
       "q14 results: All test cases passed!\n",
       "\n",
       "q3_a results: All test cases passed!\n",
       "\n",
       "q3_b results: All test cases passed!\n",
       "\n",
       "q3_c results: All test cases passed!\n",
       "\n",
       "q3_d results: All test cases passed!\n",
       "\n",
       "q6 results: All test cases passed!\n",
       "\n",
       "q8 results: All test cases passed!\n",
       "\n",
       "q9 results: All test cases passed!"
      ]
     },
     "execution_count": 33,
     "metadata": {},
     "output_type": "execute_result"
    }
   ],
   "source": [
    "grader.check_all()"
   ]
  }
 ],
 "metadata": {
  "kernelspec": {
   "display_name": "EDS220",
   "language": "python",
   "name": "eds220-env"
  },
  "language_info": {
   "codemirror_mode": {
    "name": "ipython",
    "version": 3
   },
   "file_extension": ".py",
   "mimetype": "text/x-python",
   "name": "python",
   "nbconvert_exporter": "python",
   "pygments_lexer": "ipython3",
   "version": "3.11.4"
  },
  "vscode": {
   "interpreter": {
    "hash": "fd47fb98a7ce7f6a10c657f2a810bfb9d752313f8f3dd9c5b44bfbb724ce30e0"
   }
  }
 },
 "nbformat": 4,
 "nbformat_minor": 4
}
